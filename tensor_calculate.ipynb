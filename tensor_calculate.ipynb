{
 "cells": [
  {
   "cell_type": "code",
   "execution_count": 2,
   "metadata": {},
   "outputs": [],
   "source": [
    "import torch"
   ]
  },
  {
   "cell_type": "code",
   "execution_count": 2,
   "metadata": {},
   "outputs": [
    {
     "data": {
      "text/plain": [
       "False"
      ]
     },
     "execution_count": 2,
     "metadata": {},
     "output_type": "execute_result"
    }
   ],
   "source": [
    "torch.cuda.is_available()"
   ]
  },
  {
   "cell_type": "code",
   "execution_count": 3,
   "metadata": {},
   "outputs": [
    {
     "name": "stdout",
     "output_type": "stream",
     "text": [
      "tensor([[1, 2]])\n",
      "tensor([[1, 2]], dtype=torch.int32)\n",
      "tensor([[1, 2]])\n",
      "tensor([[1., 2.]])\n"
     ]
    }
   ],
   "source": [
    "tensor = torch.tensor([[1, 2]])\n",
    "print(tensor)\n",
    "\n",
    "tensor2 = torch.IntTensor([[1, 2]])\n",
    "print(tensor2)\n",
    "\n",
    "tensor3 = torch.LongTensor([[1, 2]])\n",
    "print(tensor3)\n",
    "\n",
    "tensor4 = torch.FloatTensor([[1, 2]])\n",
    "print(tensor4)"
   ]
  },
  {
   "cell_type": "code",
   "execution_count": 4,
   "metadata": {},
   "outputs": [
    {
     "name": "stdout",
     "output_type": "stream",
     "text": [
      "tensor([[10, 10, 10],\n",
      "        [11, 11, 11]])\n",
      "tensor([[-8, -6, -4],\n",
      "        [-3, -1,  1]])\n",
      "tensor([[ 9, 16, 21],\n",
      "        [28, 30, 30]])\n",
      "tensor([[0.1111, 0.2500, 0.4286],\n",
      "        [0.5714, 0.8333, 1.2000]])\n",
      "tensor([[ 38,  32],\n",
      "        [101,  86]])\n"
     ]
    }
   ],
   "source": [
    "# 張量運算\n",
    "A = torch.tensor([[1,2,3],\n",
    "              [4,5,6]])\n",
    "B = torch.tensor([[9,8,7],\n",
    "              [7,6,5]\n",
    "             ])\n",
    "\n",
    "print(A + B)  # 加法\n",
    "print(A - B)  # 減法\n",
    "print(A * B)  # 乘法\n",
    "print(A / B)  # 除法\n"
   ]
  },
  {
   "cell_type": "code",
   "execution_count": 5,
   "metadata": {},
   "outputs": [
    {
     "name": "stdout",
     "output_type": "stream",
     "text": [
      "tensor([[ 38,  32],\n",
      "        [101,  86]])\n"
     ]
    }
   ],
   "source": [
    "# 內積\n",
    "A = torch.tensor([[1,2,3],\n",
    "              [4,5,6]])\n",
    "B = torch.tensor([[9,8],\n",
    "              [7,6],\n",
    "              [5,4],\n",
    "             ])\n",
    "print(A @ B)"
   ]
  },
  {
   "cell_type": "code",
   "execution_count": 6,
   "metadata": {},
   "outputs": [
    {
     "data": {
      "text/plain": [
       "array([[ 38,  32],\n",
       "       [101,  86]])"
      ]
     },
     "execution_count": 6,
     "metadata": {},
     "output_type": "execute_result"
    }
   ],
   "source": [
    "# PyTorch -> Numpy\n",
    "(A @ B).numpy()"
   ]
  },
  {
   "cell_type": "code",
   "execution_count": 7,
   "metadata": {},
   "outputs": [
    {
     "data": {
      "text/plain": [
       "numpy.ndarray"
      ]
     },
     "execution_count": 7,
     "metadata": {},
     "output_type": "execute_result"
    }
   ],
   "source": [
    "type((A @ B).numpy())"
   ]
  },
  {
   "cell_type": "code",
   "execution_count": 8,
   "metadata": {},
   "outputs": [
    {
     "data": {
      "text/plain": [
       "tensor([[1, 2]])"
      ]
     },
     "execution_count": 8,
     "metadata": {},
     "output_type": "execute_result"
    }
   ],
   "source": [
    "import numpy as np\n",
    "\n",
    "array = np.array([[1, 2]])\n",
    "# Numpy -> PyTorch\n",
    "tensor = torch.from_numpy(array)\n",
    "tensor"
   ]
  },
  {
   "cell_type": "code",
   "execution_count": 9,
   "metadata": {},
   "outputs": [
    {
     "data": {
      "text/plain": [
       "tensor([ 6., 15.])"
      ]
     },
     "execution_count": 9,
     "metadata": {},
     "output_type": "execute_result"
    }
   ],
   "source": [
    "# TensorFlow reduce_sum 的等式 \n",
    "A = torch.FloatTensor([[1,2,3],\n",
    "              [4,5,6]])\n",
    "A.sum(axis=1)"
   ]
  },
  {
   "cell_type": "code",
   "execution_count": 10,
   "metadata": {},
   "outputs": [
    {
     "name": "stdout",
     "output_type": "stream",
     "text": [
      "矩陣A:\n",
      " [[1 2 3]\n",
      " [4 5 6]] \n",
      "\n",
      "轉置\n",
      "tensor([[1, 4],\n",
      "        [2, 5],\n",
      "        [3, 6]])\n",
      "tensor([[1, 4],\n",
      "        [2, 5],\n",
      "        [3, 6]])\n"
     ]
    }
   ],
   "source": [
    "A = torch.tensor([[1,2,3],\n",
    "              [4,5,6]])\n",
    "print('矩陣A:\\n', A.numpy(), '\\n\\n轉置')\n",
    "\n",
    "# 轉置矩陣\n",
    "print(A.T)\n",
    "print(torch.transpose(A, 0, 1)) # 維度0/1被轉置"
   ]
  },
  {
   "cell_type": "code",
   "execution_count": 11,
   "metadata": {},
   "outputs": [
    {
     "name": "stdout",
     "output_type": "stream",
     "text": [
      "tensor([[-3.0000,  4.0000],\n",
      "        [ 3.5000, -4.5000]])\n"
     ]
    }
   ],
   "source": [
    "# A @ A反矩陣 = 單位矩陣(I)\n",
    "A = torch.FloatTensor([[9,8],\n",
    "              [7,6],\n",
    "             ])\n",
    "\n",
    "print(torch.inverse(A))"
   ]
  },
  {
   "cell_type": "code",
   "execution_count": 12,
   "metadata": {},
   "outputs": [
    {
     "name": "stdout",
     "output_type": "stream",
     "text": [
      "tensor([[9.0000, 8.0000],\n",
      "        [7.0000, 6.0000]])\n"
     ]
    }
   ],
   "source": [
    "# A @ A反矩陣 = 單位矩陣(I)\n",
    "A = torch.FloatTensor([[9,8],\n",
    "              [7,6],\n",
    "             ])\n",
    "\n",
    "print(torch.inverse(torch.inverse(A)))"
   ]
  },
  {
   "cell_type": "code",
   "execution_count": 3,
   "metadata": {},
   "outputs": [
    {
     "name": "stdout",
     "output_type": "stream",
     "text": [
      "mps\n",
      "True\n",
      "True\n"
     ]
    }
   ],
   "source": [
    "# CPU -> GPU\n",
    "tensor = torch.device(\"mps\")\n",
    "print(tensor)\n",
    "print(torch.backends.mps.is_built())\n",
    "print(torch.backends.mps.is_available())"
   ]
  },
  {
   "cell_type": "code",
   "execution_count": null,
   "metadata": {},
   "outputs": [],
   "source": []
  },
  {
   "cell_type": "code",
   "execution_count": 15,
   "metadata": {},
   "outputs": [
    {
     "name": "stdout",
     "output_type": "stream",
     "text": [
      "mps\n"
     ]
    }
   ],
   "source": [
    "device = torch.device(\"mps\")\n",
    "print(device)"
   ]
  },
  {
   "cell_type": "code",
   "execution_count": null,
   "metadata": {},
   "outputs": [],
   "source": []
  }
 ],
 "metadata": {
  "kernelspec": {
   "display_name": "Python 3",
   "language": "python",
   "name": "python3"
  },
  "language_info": {
   "codemirror_mode": {
    "name": "ipython",
    "version": 3
   },
   "file_extension": ".py",
   "mimetype": "text/x-python",
   "name": "python",
   "nbconvert_exporter": "python",
   "pygments_lexer": "ipython3",
   "version": "3.11.0"
  },
  "orig_nbformat": 4
 },
 "nbformat": 4,
 "nbformat_minor": 2
}
